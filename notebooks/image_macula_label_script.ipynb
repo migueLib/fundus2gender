{
 "cells": [
  {
   "cell_type": "code",
   "execution_count": 1,
   "metadata": {},
   "outputs": [],
   "source": [
    "import cv2\n",
    "import os\n",
    "from tqdm import tqdm"
   ]
  },
  {
   "cell_type": "markdown",
   "metadata": {},
   "source": [
    "Arguments for running the script. Please make sure to set these correctly"
   ]
  },
  {
   "cell_type": "code",
   "execution_count": 2,
   "metadata": {},
   "outputs": [],
   "source": [
    "imdir = \"C:/Users/dieck/Desktop/larger_test_set/\" #Input Image directory\n",
    "imFilePath = \"\" #File containing image paths\n",
    "labeling_Person = \"Simon Dieck\" #Person who does the labeling, to check for bias\n",
    "fileLabelsPath = \"macula_occ_disk_lables\" # Output file path\n",
    "startLine = 0 #Line at which you start in the input file\n",
    "\n",
    "mode = \"area\" #\"center\" #TODO\n",
    "\n",
    "refPt = [] #Global variable"
   ]
  },
  {
   "cell_type": "markdown",
   "metadata": {},
   "source": [
    "Event Handler"
   ]
  },
  {
   "cell_type": "code",
   "execution_count": 3,
   "metadata": {},
   "outputs": [],
   "source": [
    "def mark_area(event, x, y, flags, param):\n",
    "    global refPt\n",
    "    \n",
    "    if event == cv2.EVENT_LBUTTONDOWN:\n",
    "        refPt.append((x,y))\n",
    "        \n",
    "    elif event == cv2.EVENT_LBUTTONUP:\n",
    "        refPt.append((x,y))\n",
    "        \n",
    "        if len(refPt) == 4:\n",
    "            cv2.rectangle(image, refPt[2], refPt[3], (0, 255, 0), 2)\n",
    "        else:\n",
    "            cv2.rectangle(image, refPt[0], refPt[1], (0, 255, 0), 2)\n",
    "            \n",
    "        cv2.imshow(\"fundoscopy\", image)"
   ]
  },
  {
   "cell_type": "markdown",
   "metadata": {},
   "source": [
    "Labeling code.\n",
    "\n",
    "Use \"r\" to redo your labeling\n",
    "\n",
    "Use \"spacebar\" to go to the next picture\n",
    "\n",
    "Use \"q\" to quit the program"
   ]
  },
  {
   "cell_type": "code",
   "execution_count": null,
   "metadata": {},
   "outputs": [],
   "source": [
    "imFile = open(imFilePath, 'r')\n",
    "fileLabels = open(fileLabelsPath, 'a')\n",
    "\n",
    "fileLabels.write(\"Origin Folder: {} \\n Labeled by: {} \\n\".format(imdir, labeling_Person))\n",
    "\n",
    "cleanup = False\n",
    "\n",
    "cv2.namedWindow(\"fundoscopy\")\n",
    "\n",
    "for cnt, path in tqdm(enumerate(imFile)):\n",
    "    if cnt >= startLine:\n",
    "        fileLabels.write(path+\": \")\n",
    "        image = cv2.imread(imdir + path)\n",
    "        clone = image.copy()\n",
    "        cv2.setMouseCallback(\"fundoscopy\", mark_area)\n",
    "        \n",
    "        while True:\n",
    "            cv2.imshow(\"fundoscopy\", image)\n",
    "            key = cv2.waitKey(1) & 0xFF\n",
    "            \n",
    "            if key == ord(\"r\"):\n",
    "                image = clone.copy()\n",
    "                refPt = []\n",
    "                \n",
    "            if key == ord(\"q\"):\n",
    "                cleanup = True\n",
    "                break\n",
    "                \n",
    "            if key == 32:\n",
    "                break\n",
    "        \n",
    "        if cleanup:\n",
    "            fileLabels.write(\"Interrupted at line: \"+cnt+\"\\n\")\n",
    "            break\n",
    "        if len(refPt) >= 2:\n",
    "            fileLabels.write(\"Optic Disk: \"+str(refPt[0])+\",\"+str(refPt[1])+\" \")\n",
    "            if len(refPt) == 4:\n",
    "                fileLabels.write(\"Fovea: \"+str(refPt[2])+\",\"+str(refPt[3]))\n",
    "        fileLabels.write(\"\\n\")\n",
    "        refPt = []\n",
    "    \n",
    "imFile.close()\n",
    "fileLabels.close()\n",
    "cv2.destroyAllWindows()"
   ]
  }
 ],
 "metadata": {
  "kernelspec": {
   "display_name": "Python 3",
   "language": "python",
   "name": "python3"
  },
  "language_info": {
   "codemirror_mode": {
    "name": "ipython",
    "version": 3
   },
   "file_extension": ".py",
   "mimetype": "text/x-python",
   "name": "python",
   "nbconvert_exporter": "python",
   "pygments_lexer": "ipython3",
   "version": "3.7.1"
  }
 },
 "nbformat": 4,
 "nbformat_minor": 2
}
