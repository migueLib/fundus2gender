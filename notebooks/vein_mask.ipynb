{
 "cells": [
  {
   "cell_type": "code",
   "execution_count": 3,
   "metadata": {},
   "outputs": [],
   "source": [
    "import PIL \n",
    "from PIL import Image, ImageFilter\n",
    "import copy\n",
    "import numpy as np\n",
    "from scipy import stats\n",
    "import seaborn as sns\n",
    "import matplotlib as mpl\n",
    "import matplotlib.pyplot as plt\n",
    "import pandas as pd"
   ]
  },
  {
   "cell_type": "code",
   "execution_count": 4,
   "metadata": {},
   "outputs": [],
   "source": [
    "class Fundus():\n",
    "    # Constructor\n",
    "    def __init__(self, initarg=False, **kwargs):\n",
    "        \n",
    "        if isinstance(initarg, str):\n",
    "            self.image = self.image_from_file(initarg)\n",
    "        \n",
    "        if isinstance(initarg, np.ndarray):\n",
    "            self.image = self.image_from_pixels(initarg, **kwargs)\n",
    "        \n",
    "        # Getting number of pixels\n",
    "        self.npixels = np.prod(self.image.size)\n",
    "        self.size = self.image.size\n",
    "        self.c = self.image.getbands()\n",
    "        self.c_size = len(self.c)\n",
    "        self.palette, self.counts = self.get_palette()\n",
    "        \n",
    "    # Constructor from file\n",
    "    def image_from_file(self, path):\n",
    "        return Image.open(path)\n",
    "    \n",
    "    def image_from_pixels(self, pixels, **kwargs):\n",
    "        arr = np.resize(pixels, (w, h, 3)).astype(np.uint8)\n",
    "        return Image.fromarray(arr)\n",
    "    \n",
    "    # Get numpy array for the image\n",
    "    def get_array(self):\n",
    "        return np.asanyarray(self.image)\n",
    "    \n",
    "    # Get channel numpy array \n",
    "    def get_channels_asarray(self):\n",
    "        r, g, b = self.image.split()\n",
    "        return np.asanyarray(r), np.asanyarray(g), np.asanyarray(b)\n",
    "    \n",
    "    # Get an scpecific channel as an array\n",
    "    def get_channel(self, channel):\n",
    "        return np.asanyarray(self.image.getchannel(channel))\n",
    "    \n",
    "    # Transforme the image to a list of pixels\n",
    "    def get_pixels(self):\n",
    "        return np.resize(self.get_array(), (self.npixels, self.c_size))\n",
    "    \n",
    "    # Get a unique list of pixels amd their counts (palette)\n",
    "    def get_palette(self):\n",
    "        ps = np.sort(self.get_pixels(), axis=0)\n",
    "        return np.unique(ps, return_counts=True, axis=0)\n",
    "                         \n",
    "    # Plot color counts\n",
    "    def plot_counts(self):\n",
    "        # Configure subplots\n",
    "        f, ax = plt.subplots(1, 2, figsize=(12, 5), sharey=True)\n",
    "        sns.despine(left=True)\n",
    "                \n",
    "        # Plot\n",
    "        # TODO:  change xlabels to colors\n",
    "        sns.lineplot(data=self.counts, ax=ax[0])\n",
    "        sns.lineplot(data=np.sort(self.counts), ax=ax[1])\n",
    "        \n",
    "        # Title\n",
    "        ax[0].set_title(\"Color sorted\")\n",
    "        ax[1].set_title(\"Count sorted\")\n",
    "    \n",
    "    def color_bar(self, colors):\n",
    "        cmap = mpl.colors.ListedColormap(colors)\n",
    "        \n",
    "        # Get hex values for \n",
    "        hexcol = np.array([mpl.colors.rgb2hex(x) for x in colors])\n",
    "        \n",
    "        # Get figure\n",
    "        fig, ax = plt.subplots(1, 1, figsize=(10, 2))\n",
    "        fig.subplots_adjust(bottom=0.25)\n",
    "        \n",
    "        # Calculate bounds\n",
    "        bounds = range(cmap.N + 1)\n",
    "        norm = mpl.colors.BoundaryNorm(bounds, cmap.N)\n",
    "        \n",
    "        # Plot color bar\n",
    "        bar = mpl.colorbar.ColorbarBase(ax=ax,\n",
    "                                       cmap=cmap,\n",
    "                                       norm=norm,\n",
    "                                       boundaries=bounds,\n",
    "                                       extend=\"neither\",\n",
    "                                       ticks=None,\n",
    "                                       ticklocation=\"top\",\n",
    "                                       drawedges=False,\n",
    "                                       spacing=\"uniform\",\n",
    "                                       filled=True,\n",
    "                                       orientation=\"horizontal\")\n",
    "        bar.set_ticklabels(hexcol)\n",
    "        \n",
    "    \n",
    "    def plot_palette(self):        \n",
    "        # Transform 0-255 RGB to 0-1 RGB\n",
    "        colors = self.palette/255\n",
    "        \n",
    "        # plot color bar\n",
    "        self.color_bar(colors)\n",
    "    \n",
    "    \n",
    "    def plot_cbar(self, nc=5):        \n",
    "        # Transform 0-255 RGB to 0-1 RGB\n",
    "        colors = self.palette[np.argsort(self.counts)[::-1][0:nc]]/255\n",
    "        \n",
    "        # Plot color bar\n",
    "        self.color_bar(colors)\n",
    "    \n",
    "\n",
    "    # Plots histogram of all color chanels separately and alltogether\n",
    "    def plot_histogram(self):\n",
    "        # Set figure\n",
    "        sns.set(style=\"white\", palette=\"muted\", color_codes=True)\n",
    "        fig, ax = plt.subplots(2, 2, figsize=(12, 12), sharex=True)\n",
    "        sns.despine(left=True)\n",
    "        \n",
    "        R,G,B = self.get_pixels().T\n",
    "        \n",
    "        # Plot  00,01 and 10 (separate channels)\n",
    "        sns.distplot(R, color=\"r\", ax=ax[0, 0])\n",
    "        sns.distplot(G, color=\"g\", ax=ax[0, 1])\n",
    "        sns.distplot(B, color=\"b\", ax=ax[1, 0])\n",
    "               \n",
    "        # Plot the 3 distributions together\n",
    "        sns.distplot(R, color=\"r\", hist=False, kde_kws={\"shade\": True}, ax=ax[1, 1])\n",
    "        sns.distplot(G, color=\"g\", hist=False, kde_kws={\"shade\": True}, ax=ax[1, 1])\n",
    "        sns.distplot(B, color=\"b\", hist=False, kde_kws={\"shade\": True}, ax=ax[1, 1])\n",
    "\n",
    "    def plot_lines(self):\n",
    "        # Plot color distribution of oroginal image\n",
    "        fig, ax = plt.subplots(1,2, figsize=(12, 5), sharey=True)\n",
    "        sns.despine(left=True)\n",
    "        \n",
    "        # Get list of all pixels\n",
    "        pixels_sorted = np.sort(self.get_pixels(), axis=0)\n",
    "        ax[0].plot(pixels_sorted)\n",
    "        ax[0].set_title(\"All pixels\")\n",
    "\n",
    "        ax[1].plot(self.get_palette()[0])\n",
    "        ax[1].set_title(\"Unique pixels\")\n",
    "        \n",
    "    def get_summary(self):\n",
    "        df_palette = pd.DataFrame(self.palette, columns=self.c)\n",
    "        df_summary = pd.DataFrame()\n",
    "        df_summary[\"mean\"]  = df_palette.mean()\n",
    "        df_summary[\"std\"]  = df_palette.std()\n",
    "        df_summary[\"var\"]  = df_palette.var()\n",
    "        df_summary[\"max-min\"]  = df_palette.max()-df_palette.min()\n",
    "        \n",
    "        return df_summary\n",
    "    \n",
    "    def remove_pixels(self, colors2remove):\n",
    "        \"\"\"\n",
    "        Takes the code of a color in RGB 0-255 format\n",
    "        and blackens all the pixels of such color.\n",
    "        \"\"\"\n",
    "        pixels = self.get_pixels()\n",
    "        for color in colors2remove:\n",
    "            pixels[(original.get_pixels() == color).all(axis=1)] = 0 # <- 255 RGB code for black \n",
    "            \n",
    "        return pixels\n",
    "        "
   ]
  },
  {
   "cell_type": "code",
   "execution_count": 5,
   "metadata": {},
   "outputs": [
    {
     "data": {
      "image/png": "[encoded data removed]",
      "text/plain": [
       "<Figure size 720x144 with 1 Axes>"
      ]
     },
     "metadata": {
      "needs_background": "light"
     },
     "output_type": "display_data"
    }
   ],
   "source": [
    "# Read Image, create fundus object\n",
    "original = Fundus(\"highscore_pictures/male/male_rank_0.png\")\n",
    "original.plot_cbar(5)"
   ]
  },
  {
   "cell_type": "code",
   "execution_count": 6,
   "metadata": {},
   "outputs": [],
   "source": [
    "palette, counts = original.get_palette()\n",
    "palette_sorted = palette[np.argsort(counts)[::-1]]\n",
    "arr_new = original.remove_pixels(palette_sorted[:5])"
   ]
  },
  {
   "cell_type": "markdown",
   "metadata": {},
   "source": [
    "# Here we start modifying the image"
   ]
  },
  {
   "cell_type": "code",
   "execution_count": 7,
   "metadata": {},
   "outputs": [
    {
     "ename": "NameError",
     "evalue": "name 'w' is not defined",
     "output_type": "error",
     "traceback": [
      "\u001b[0;31m---------------------------------------------------------------------------\u001b[0m",
      "\u001b[0;31mNameError\u001b[0m                                 Traceback (most recent call last)",
      "\u001b[0;32m<ipython-input-7-c319c270165d>\u001b[0m in \u001b[0;36m<module>\u001b[0;34m\u001b[0m\n\u001b[1;32m      3\u001b[0m \u001b[0;31m#print (original.size[1])\u001b[0m\u001b[0;34m\u001b[0m\u001b[0;34m\u001b[0m\u001b[0;34m\u001b[0m\u001b[0m\n\u001b[1;32m      4\u001b[0m \u001b[0;31m#print (original.size[0])\u001b[0m\u001b[0;34m\u001b[0m\u001b[0;34m\u001b[0m\u001b[0;34m\u001b[0m\u001b[0m\n\u001b[0;32m----> 5\u001b[0;31m \u001b[0mFundus\u001b[0m\u001b[0;34m(\u001b[0m\u001b[0marr_new\u001b[0m\u001b[0;34m,\u001b[0m \u001b[0mw\u001b[0m\u001b[0;34m=\u001b[0m\u001b[0moriginal\u001b[0m\u001b[0;34m.\u001b[0m\u001b[0msize\u001b[0m\u001b[0;34m[\u001b[0m\u001b[0;36m0\u001b[0m\u001b[0;34m]\u001b[0m\u001b[0;34m,\u001b[0m \u001b[0mh\u001b[0m\u001b[0;34m=\u001b[0m\u001b[0moriginal\u001b[0m\u001b[0;34m.\u001b[0m\u001b[0msize\u001b[0m\u001b[0;34m[\u001b[0m\u001b[0;36m1\u001b[0m\u001b[0;34m]\u001b[0m \u001b[0;34m)\u001b[0m\u001b[0;34m\u001b[0m\u001b[0;34m\u001b[0m\u001b[0m\n\u001b[0m",
      "\u001b[0;32m<ipython-input-4-4d7623fa63b2>\u001b[0m in \u001b[0;36m__init__\u001b[0;34m(self, initarg, **kwargs)\u001b[0m\n\u001b[1;32m      7\u001b[0m \u001b[0;34m\u001b[0m\u001b[0m\n\u001b[1;32m      8\u001b[0m         \u001b[0;32mif\u001b[0m \u001b[0misinstance\u001b[0m\u001b[0;34m(\u001b[0m\u001b[0minitarg\u001b[0m\u001b[0;34m,\u001b[0m \u001b[0mnp\u001b[0m\u001b[0;34m.\u001b[0m\u001b[0mndarray\u001b[0m\u001b[0;34m)\u001b[0m\u001b[0;34m:\u001b[0m\u001b[0;34m\u001b[0m\u001b[0;34m\u001b[0m\u001b[0m\n\u001b[0;32m----> 9\u001b[0;31m             \u001b[0mself\u001b[0m\u001b[0;34m.\u001b[0m\u001b[0mimage\u001b[0m \u001b[0;34m=\u001b[0m \u001b[0mself\u001b[0m\u001b[0;34m.\u001b[0m\u001b[0mimage_from_pixels\u001b[0m\u001b[0;34m(\u001b[0m\u001b[0minitarg\u001b[0m\u001b[0;34m,\u001b[0m \u001b[0;34m**\u001b[0m\u001b[0mkwargs\u001b[0m\u001b[0;34m)\u001b[0m\u001b[0;34m\u001b[0m\u001b[0;34m\u001b[0m\u001b[0m\n\u001b[0m\u001b[1;32m     10\u001b[0m \u001b[0;34m\u001b[0m\u001b[0m\n\u001b[1;32m     11\u001b[0m         \u001b[0;31m# Getting number of pixels\u001b[0m\u001b[0;34m\u001b[0m\u001b[0;34m\u001b[0m\u001b[0;34m\u001b[0m\u001b[0m\n",
      "\u001b[0;32m<ipython-input-4-4d7623fa63b2>\u001b[0m in \u001b[0;36mimage_from_pixels\u001b[0;34m(self, pixels, **kwargs)\u001b[0m\n\u001b[1;32m     21\u001b[0m \u001b[0;34m\u001b[0m\u001b[0m\n\u001b[1;32m     22\u001b[0m     \u001b[0;32mdef\u001b[0m \u001b[0mimage_from_pixels\u001b[0m\u001b[0;34m(\u001b[0m\u001b[0mself\u001b[0m\u001b[0;34m,\u001b[0m \u001b[0mpixels\u001b[0m\u001b[0;34m,\u001b[0m \u001b[0;34m**\u001b[0m\u001b[0mkwargs\u001b[0m\u001b[0;34m)\u001b[0m\u001b[0;34m:\u001b[0m\u001b[0;34m\u001b[0m\u001b[0;34m\u001b[0m\u001b[0m\n\u001b[0;32m---> 23\u001b[0;31m         \u001b[0marr\u001b[0m \u001b[0;34m=\u001b[0m \u001b[0mnp\u001b[0m\u001b[0;34m.\u001b[0m\u001b[0mresize\u001b[0m\u001b[0;34m(\u001b[0m\u001b[0mpixels\u001b[0m\u001b[0;34m,\u001b[0m \u001b[0;34m(\u001b[0m\u001b[0mw\u001b[0m\u001b[0;34m,\u001b[0m \u001b[0mh\u001b[0m\u001b[0;34m,\u001b[0m \u001b[0;36m3\u001b[0m\u001b[0;34m)\u001b[0m\u001b[0;34m)\u001b[0m\u001b[0;34m.\u001b[0m\u001b[0mastype\u001b[0m\u001b[0;34m(\u001b[0m\u001b[0mnp\u001b[0m\u001b[0;34m.\u001b[0m\u001b[0muint8\u001b[0m\u001b[0;34m)\u001b[0m\u001b[0;34m\u001b[0m\u001b[0;34m\u001b[0m\u001b[0m\n\u001b[0m\u001b[1;32m     24\u001b[0m         \u001b[0;32mreturn\u001b[0m \u001b[0mImage\u001b[0m\u001b[0;34m.\u001b[0m\u001b[0mfromarray\u001b[0m\u001b[0;34m(\u001b[0m\u001b[0marr\u001b[0m\u001b[0;34m)\u001b[0m\u001b[0;34m\u001b[0m\u001b[0;34m\u001b[0m\u001b[0m\n\u001b[1;32m     25\u001b[0m \u001b[0;34m\u001b[0m\u001b[0m\n",
      "\u001b[0;31mNameError\u001b[0m: name 'w' is not defined"
     ]
    }
   ],
   "source": [
    "# Generate new figure\n",
    "#newimage = np.resize(arr_new, (original.size[1], original.size[0], original.c_size)).astype(np.uint8)\n",
    "#print (original.size[1])\n",
    "#print (original.size[0])\n",
    "Fundus(arr_new, w=original.size[0], h=original.size[1] )"
   ]
  },
  {
   "cell_type": "code",
   "execution_count": 6,
   "metadata": {},
   "outputs": [],
   "source": [
    "import scipy.cluster.hierarchy as shc"
   ]
  },
  {
   "cell_type": "code",
   "execution_count": 7,
   "metadata": {},
   "outputs": [
    {
     "data": {
      "image/png": "[encoded data removed]",
      "text/plain": [
       "<Figure size 720x720 with 1 Axes>"
      ]
     },
     "metadata": {
      "needs_background": "light"
     },
     "output_type": "display_data"
    }
   ],
   "source": [
    "plt.figure(figsize=(10, 10))  \n",
    "plt.title(\"Dendrograms\")  \n",
    "dend = shc.dendrogram(shc.linkage(palette, method='ward'))"
   ]
  },
  {
   "cell_type": "code",
   "execution_count": 28,
   "metadata": {},
   "outputs": [
    {
     "data": {
      "text/plain": [
       "array([10, 10, 10, 10, 10, 10, 10, 10, 10, 10,  5,  5,  5,  5,  5,  5,  5,\n",
       "        5,  5,  5,  5,  5,  5,  5, 12, 12, 12, 12, 12, 12, 12, 12, 12, 12,\n",
       "        2,  2,  2,  2,  2,  2,  2,  2,  2,  2,  2,  2,  2,  2,  2,  2, 11,\n",
       "       11, 11, 11, 11, 11, 11, 11, 11, 11, 11, 11,  6,  6,  6,  6,  6,  6,\n",
       "        6,  6,  6,  6,  6,  6,  3,  3,  3,  3,  3,  3,  3,  3,  3,  3,  3,\n",
       "        3,  3,  3,  0,  0,  0,  0,  0,  0,  0,  0,  0,  0,  0,  0,  0,  0,\n",
       "        0,  0,  0,  0,  0,  0,  0,  0,  9,  9,  9,  9,  9,  9,  9,  9,  9,\n",
       "        9,  9,  9,  9,  9,  4,  4,  4,  4,  4,  4,  4,  4,  4,  4,  4,  4,\n",
       "        4,  4,  4,  4,  7,  7,  7,  7,  7,  7,  7,  7,  7,  7,  7,  7,  7,\n",
       "       13, 13, 13, 13, 13, 13, 13, 13, 13, 13,  1,  1,  1,  1,  1,  1,  1,\n",
       "        1,  1,  1,  1,  1,  1,  1,  1,  1,  1,  8,  8,  8,  8,  8,  8,  8,\n",
       "        8])"
      ]
     },
     "execution_count": 28,
     "metadata": {},
     "output_type": "execute_result"
    }
   ],
   "source": [
    "import sklearn\n",
    "from sklearn.cluster import AgglomerativeClustering\n",
    "cluster = AgglomerativeClustering(n_clusters=14, affinity='euclidean', linkage='ward')  \n",
    "cluster.fit_predict(palette)"
   ]
  },
  {
   "cell_type": "code",
   "execution_count": 60,
   "metadata": {},
   "outputs": [
    {
     "data": {
      "text/plain": [
       "array([[ 0,  0, 20],\n",
       "       [ 0,  0, 24],\n",
       "       [ 0,  0, 28],\n",
       "       [ 0,  0, 32],\n",
       "       [ 0,  0, 36],\n",
       "       [ 0,  0, 40],\n",
       "       [ 0,  0, 44],\n",
       "       [ 0,  0, 48],\n",
       "       [ 0,  0, 52],\n",
       "       [ 0,  0, 56]], dtype=uint8)"
      ]
     },
     "execution_count": 60,
     "metadata": {},
     "output_type": "execute_result"
    }
   ],
   "source": [
    "len(cluster.fit_predict(palette))\n",
    "palette[cluster.fit_predict(palette)==10]"
   ]
  },
  {
   "cell_type": "code",
   "execution_count": null,
   "metadata": {},
   "outputs": [],
   "source": []
  }
 ],
 "metadata": {
  "kernelspec": {
   "display_name": "Python 3",
   "language": "python",
   "name": "python3"
  },
  "language_info": {
   "codemirror_mode": {
    "name": "ipython",
    "version": 3
   },
   "file_extension": ".py",
   "mimetype": "text/x-python",
   "name": "python",
   "nbconvert_exporter": "python",
   "pygments_lexer": "ipython3",
   "version": "3.7.6"
  }
 },
 "nbformat": 4,
 "nbformat_minor": 4
}
