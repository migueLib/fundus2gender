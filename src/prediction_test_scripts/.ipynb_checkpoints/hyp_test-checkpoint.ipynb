{
 "cells": [
  {
   "cell_type": "code",
   "execution_count": 1,
   "metadata": {},
   "outputs": [],
   "source": [
    "import cv2\n",
    "import os\n",
    "from random import sample"
   ]
  },
  {
   "cell_type": "code",
   "execution_count": 3,
   "metadata": {},
   "outputs": [
    {
     "data": {
      "text/plain": [
       "(50, 50)"
      ]
     },
     "execution_count": 3,
     "metadata": {},
     "output_type": "execute_result"
    }
   ],
   "source": [
    "input_dir = 'C:/Users/dieck/Desktop/highscore_pictures/'\n",
    "\n",
    "female = os.listdir(input_dir + 'female/')\n",
    "male = os.listdir(input_dir + 'male/')\n",
    "\n",
    "female = list(((i,0) for i in female))\n",
    "male = list(((i,1) for i in male))\n",
    "\n",
    "combined = female + male\n",
    "\n",
    "len(female), len(male)"
   ]
  },
  {
   "cell_type": "code",
   "execution_count": 6,
   "metadata": {},
   "outputs": [],
   "source": [
    "combined_test = sample(combined, 50)"
   ]
  },
  {
   "cell_type": "code",
   "execution_count": 7,
   "metadata": {},
   "outputs": [
    {
     "name": "stdout",
     "output_type": "stream",
     "text": [
      "Classified 35 out of 50 correctly. Accuracy of 0.7 reached.\n"
     ]
    }
   ],
   "source": [
    "correct = 0\n",
    "total = 0\n",
    "current = 0\n",
    "quit = False\n",
    "folder = \"\"\n",
    "cv2.namedWindow(\"Manual Classification\")\n",
    "\n",
    "for i, l in combined_test:\n",
    "    \n",
    "    if(l == 0):\n",
    "        folder = 'female/'\n",
    "    else:\n",
    "        folder = 'male/'\n",
    "    \n",
    "    image = cv2.imread(input_dir + folder + i)\n",
    "    \n",
    "    while True:\n",
    "        cv2.imshow(\"Manual Classification\", image)\n",
    "        key = cv2.waitKey(1) & 0xFF\n",
    "        \n",
    "        if key == ord(\"f\"):\n",
    "            current = 0\n",
    "            total += 1\n",
    "            if(current == l):\n",
    "                correct += 1\n",
    "            break;\n",
    "            \n",
    "        if key == ord(\"m\"):\n",
    "            current = 1\n",
    "            total += 1\n",
    "            if(current == l):\n",
    "                correct += 1\n",
    "            break;\n",
    "            \n",
    "        if key == ord(\"q\"):\n",
    "            quit = True\n",
    "            break;\n",
    "            \n",
    "    if(quit):\n",
    "        break;\n",
    "        \n",
    "cv2.destroyAllWindows()\n",
    "        \n",
    "print(\"Classified {} out of {} correctly. Accuracy of {} reached.\".format(correct, total, correct/total))"
   ]
  },
  {
   "cell_type": "code",
   "execution_count": null,
   "metadata": {},
   "outputs": [],
   "source": []
  }
 ],
 "metadata": {
  "kernelspec": {
   "display_name": "Python 3",
   "language": "python",
   "name": "python3"
  },
  "language_info": {
   "codemirror_mode": {
    "name": "ipython",
    "version": 3
   },
   "file_extension": ".py",
   "mimetype": "text/x-python",
   "name": "python",
   "nbconvert_exporter": "python",
   "pygments_lexer": "ipython3",
   "version": "3.7.4"
  }
 },
 "nbformat": 4,
 "nbformat_minor": 2
}
